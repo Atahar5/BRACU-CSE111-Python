{
 "cells": [
  {
   "cell_type": "code",
   "execution_count": 1,
   "metadata": {},
   "outputs": [
    {
     "data": {
      "text/plain": [
       "0.5"
      ]
     },
     "execution_count": 1,
     "metadata": {},
     "output_type": "execute_result"
    }
   ],
   "source": [
    "#1\n",
    "def frac(m,n):\n",
    "    if n == 0 or m == 0:\n",
    "        return 0\n",
    "    else:\n",
    "        return (m/n-m//n)\n",
    "frac(5,2)"
   ]
  },
  {
   "cell_type": "code",
   "execution_count": 51,
   "metadata": {},
   "outputs": [
    {
     "name": "stdout",
     "output_type": "stream",
     "text": [
      "Score is  31.3 . You are Obese\n"
     ]
    }
   ],
   "source": [
    "#2\n",
    "def BMI(x,y):\n",
    "    x=x/100.0\n",
    "    bmi=y/(x*x)\n",
    "    return bmi\n",
    "bmi=BMI(175,96)\n",
    "if bmi<18.5:\n",
    "    print(\"Score is \",format(bmi,'.1f'),\". You are Underweight\")\n",
    "elif bmi>=18.5 and bmi<=24.9:\n",
    "    print(\"Score is \",format(bmi,'.1f'), \". You are Normal\")\n",
    "elif bmi>=25 and bmi<=30:\n",
    "    print(\"Score is \",format(bmi,'.1f'), \". You are Overweight\")\n",
    "else:\n",
    "    print(\"Score is \",format(bmi,'.1f'), \". You are Obese\")\n"
   ]
  },
  {
   "cell_type": "code",
   "execution_count": 48,
   "metadata": {},
   "outputs": [
    {
     "name": "stdout",
     "output_type": "stream",
     "text": [
      "45\n"
     ]
    }
   ],
   "source": [
    "#3\n",
    "def myfunctions(min,max,div):\n",
    "    counter = 0\n",
    "    for i in range(min,max):\n",
    "        if i%div==0:\n",
    "            counter = counter + i\n",
    "    print(counter)\n",
    "myfunctions(3, 16, 3)"
   ]
  },
  {
   "cell_type": "code",
   "execution_count": 53,
   "metadata": {},
   "outputs": [
    {
     "name": "stdout",
     "output_type": "stream",
     "text": [
      "243.6\n"
     ]
    }
   ],
   "source": [
    "#4\n",
    "def calc(food,place=\"Mohakhali\"):\n",
    "    if food==\"BBQ Chicken Cheese Burger\":\n",
    "        meal_cost=250\n",
    "    elif food==\"Beef Burger\":\n",
    "        meal_cost=170\n",
    "    elif food==\"Naga Drums\":\n",
    "        meal_cost=200  \n",
    "    if place==\"Mohakhali\":\n",
    "        delivery_charge=40\n",
    "    else:\n",
    "        delivery_charge=60 \n",
    "    tax=meal_cost*8/100\n",
    "    total_price= meal_cost+delivery_charge+tax\n",
    "    print(total_price)\n",
    "calc(food=\"Beef Burger\", place=\"Dhanmondi\")\n"
   ]
  },
  {
   "cell_type": "code",
   "execution_count": 2,
   "metadata": {},
   "outputs": [
    {
     "name": "stdout",
     "output_type": "stream",
     "text": [
      "Changed: alice@sheba.xyz\n"
     ]
    }
   ],
   "source": [
    "#5\n",
    "def replace_domain(email,new_domain,old_domain='kaaj.com'):\n",
    "    if new_domain in email:\n",
    "        print('Unchanged:',email)\n",
    "    else:\n",
    "        a=email.find('@')\n",
    "        print(\"Changed: \"+email[:a+1]+new_domain)\n",
    "replace_domain(email=\"alice@kaaj.com\",new_domain=\"sheba.xyz\",old_domain=\"kaaj.com\")"
   ]
  },
  {
   "cell_type": "code",
   "execution_count": 52,
   "metadata": {},
   "outputs": [
    {
     "name": "stdout",
     "output_type": "stream",
     "text": [
      "No vowels in the name\n"
     ]
    }
   ],
   "source": [
    "#6\n",
    "def vowels(n):\n",
    "    vowel_string = 'aeiouAEIOU'\n",
    "    #user_input = input(\"Please Enter a String:\")\n",
    "    vowel_counter=0\n",
    "    vowel_list=[]\n",
    "    vos=''\n",
    "    for i in n:\n",
    "        if i in vowel_string:\n",
    "            vowel_counter +=1\n",
    "            vowel_list.append(i)\n",
    "    if vowel_list == []:\n",
    "        print(\"No vowels in the name\")\n",
    "    else:\n",
    "        print('Vowels:', end=\"\")\n",
    "        for j in vowel_list:\n",
    "            vos = vos+j\n",
    "        for h in vos:\n",
    "            print(h,end='')\n",
    "            if h != vos[-1]:\n",
    "                print(',',end='')\n",
    "            else:\n",
    "                print('.',end='')\n",
    "\n",
    "        print('Total number of vowels:',vowel_counter)\n",
    "vowels('(XYZ)')"
   ]
  },
  {
   "cell_type": "code",
   "execution_count": 10,
   "metadata": {},
   "outputs": [
    {
     "name": "stdout",
     "output_type": "stream",
     "text": [
      "Not a palindrome\n"
     ]
    }
   ],
   "source": [
    "#7\n",
    "a = \"hello\"\n",
    "a = a.replace(\" \",\"\") # removing space\n",
    "Half_length = int(len(a)/2)\n",
    "j = len(a)-1 # to iterate from end of string\n",
    "flag = True\n",
    "for i in range(Half_length): # to iterate from beginning of string\n",
    "  if(a[i]!=a[j]):\n",
    "    flag = False # if not equal then it's not palindrome then flag = false\n",
    "    break\n",
    "  j-=1\n",
    "if(flag==True):\n",
    "  print('Palindrome')\n",
    "else:\n",
    "  print('Not a palindrome')"
   ]
  },
  {
   "cell_type": "code",
   "execution_count": 18,
   "metadata": {},
   "outputs": [
    {
     "name": "stdout",
     "output_type": "stream",
     "text": [
      "please enter time : 4000\n",
      "10 years, 11 months and 20 days\n"
     ]
    }
   ],
   "source": [
    "#8\n",
    "def days_Calculator(days):\n",
    "  year = int(days/365)\n",
    "  months = int((days%365)/30)\n",
    "  days = int((days%365)%30)\n",
    "  print(year,\"years,\", months,\"months and\",days,\"days\")\n",
    "day = int(input('please enter time : '))\n",
    "days_Calculator(day)"
   ]
  },
  {
   "cell_type": "code",
   "execution_count": 45,
   "metadata": {},
   "outputs": [
    {
     "name": "stdout",
     "output_type": "stream",
     "text": [
      "My favourite animal is a dog. A dog has sharp teeth so that it can eat flesh very easily. Do you know my pet dog’s name? I love my pet very much.\n"
     ]
    }
   ],
   "source": [
    "#9\n",
    "s = 'my favourite animal is a dog. a dog has sharp teeth so that it can eat flesh very easily. do you know my pet dog’s name? i love my pet very much.'\n",
    "q = list(s)\n",
    "\n",
    "for i in range(len(q) - 2):\n",
    "    if i == 0:\n",
    "        q[0] = q[0].upper()\n",
    "    else:\n",
    "        if q[i] == '.' or q[i] == '?' or q[i] == '!':\n",
    "            q[i + 2] = q[i + 2].upper()\n",
    "\n",
    "            continue\n",
    "        if q[i] == 'i' and q[i - 1] == ' ' and q[i + 1] == ' ':\n",
    "            q[i] = 'I'\n",
    "            continue\n",
    "\n",
    "print(''.join(q))"
   ]
  },
  {
   "cell_type": "code",
   "execution_count": null,
   "metadata": {},
   "outputs": [],
   "source": []
  }
 ],
 "metadata": {
  "kernelspec": {
   "display_name": "Python 3",
   "language": "python",
   "name": "python3"
  },
  "language_info": {
   "codemirror_mode": {
    "name": "ipython",
    "version": 3
   },
   "file_extension": ".py",
   "mimetype": "text/x-python",
   "name": "python",
   "nbconvert_exporter": "python",
   "pygments_lexer": "ipython3",
   "version": "3.7.6"
  }
 },
 "nbformat": 4,
 "nbformat_minor": 4
}
