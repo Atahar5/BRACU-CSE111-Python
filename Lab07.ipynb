{
 "cells": [
  {
   "cell_type": "code",
   "execution_count": 7,
   "metadata": {},
   "outputs": [
    {
     "name": "stdout",
     "output_type": "stream",
     "text": [
      "Name: default Department: BBA\n",
      "Name: Humpty Dumpty Department: BBA\n",
      "Name: Little Bo Peep Department: BBA\n"
     ]
    }
   ],
   "source": [
    "#Ans to the question no-1\n",
    "class Student:\n",
    "    def __init__(self, name='Just a student', dept='nothing'):\n",
    "        self.__name = name\n",
    "        self.__department = dept\n",
    "    def set_department(self, dept):\n",
    "        self.__department = dept\n",
    "    def get_name(self):\n",
    "        return self.__name\n",
    "    def set_name(self,name):\n",
    "        self.__name = name\n",
    "    def __str__(self):\n",
    "        return 'Name: '+self.__name+' Department: '+self.__department\n",
    "class BBA_Student(Student):\n",
    "    def __init__(self, name='default', dept='BBA'):\n",
    "        super().__init__(name,dept)\n",
    "\n",
    "print(BBA_Student())\n",
    "print(BBA_Student('Humpty Dumpty'))\n",
    "print(BBA_Student('Little Bo Peep'))"
   ]
  },
  {
   "cell_type": "code",
   "execution_count": 19,
   "metadata": {},
   "outputs": [
    {
     "name": "stdout",
     "output_type": "stream",
     "text": [
      "Part 1\n",
      "------\n",
      "(0 , 0)\n",
      "(0 , 1)\n",
      "(-1 , 1)\n",
      "(-1 , 0)\n",
      "(0 , 0)\n",
      "------\n",
      "Part 2\n",
      "------\n",
      "(0 , 0)\n",
      "(-1 , -1)\n",
      "False\n",
      "True\n"
     ]
    }
   ],
   "source": [
    "#Ans to the question no-2\n",
    "class Vehicle:\n",
    "    def __init__(self):\n",
    "        self.x = 0\n",
    "        self.y = 0\n",
    "    def moveUp(self):\n",
    "        self.y+=1\n",
    "    def moveDown(self):\n",
    "        self.y-=1\n",
    "    def moveRight(self):\n",
    "        self.x+=1\n",
    "    def moveLeft(self):\n",
    "        self.x-=1\n",
    "    def __str__(self):\n",
    "        return '('+str(self.x)+' , '+str(self.y)+')'\n",
    "class Vehicle2010(Vehicle):\n",
    "    def __init__(self):\n",
    "        super().__init__()\n",
    "    def moveLowerLeft(self):\n",
    "        self.moveLeft()\n",
    "        self.moveDown()\n",
    "    def moveUpperRight(self):\n",
    "        self.moveRight()\n",
    "        self.moveUp()\n",
    "    def moveUpperLeft(self):\n",
    "        self.moveLeft()\n",
    "        self.moveUp()\n",
    "    def moveLowerRight(self):\n",
    "        self.moveRight()\n",
    "        self.moveDown()\n",
    "    def equals(self, other):\n",
    "        return self.x == other.x and self.y == other.y\n",
    "    \n",
    "print('Part 1')\n",
    "print('------')\n",
    "car = Vehicle()\n",
    "print(car)\n",
    "car.moveUp()\n",
    "print(car)\n",
    "car.moveLeft()\n",
    "print(car)\n",
    "car.moveDown()\n",
    "print(car)\n",
    "car.moveRight()\n",
    "print(car)\n",
    "print('------')\n",
    "print('Part 2')\n",
    "print('------')\n",
    "car1 = Vehicle2010()\n",
    "print(car1)\n",
    "car1.moveLowerLeft()\n",
    "print(car1)\n",
    "car2 = Vehicle2010()\n",
    "car2.moveLeft()\n",
    "print(car1.equals(car2))\n",
    "car2.moveDown()\n",
    "print(car1.equals(car2))\n"
   ]
  },
  {
   "cell_type": "code",
   "execution_count": 30,
   "metadata": {},
   "outputs": [
    {
     "name": "stdout",
     "output_type": "stream",
     "text": [
      "Cricket Tournament Name: Default\n",
      "Number of Teams: 0\n",
      "Type: No type\n",
      "-----------------------\n",
      "Cricket Tournament Name: IPL\n",
      "Number of Teams: 10\n",
      "Type: t20\n",
      "-----------------------\n",
      "Tennis Tournament Name: Roland Garros\n",
      "Number of Players: 128\n"
     ]
    }
   ],
   "source": [
    "#Ans to the question no-3:\n",
    "class Tournament:\n",
    "    def __init__(self,name='Default'):\n",
    "        self.__name = name\n",
    "    def set_name(self,name):\n",
    "        self.__name = name\n",
    "    def get_name(self):\n",
    "        return self.__name\n",
    "class Cricket_Tournament(Tournament):\n",
    "    def __init__(self, name=\"Default\", nTeams=0, typ=\"No type\"):\n",
    "        super().__init__(name)\n",
    "        self.__nTeams = nTeams\n",
    "        self.__type = typ\n",
    "    def detail(self):\n",
    "        return 'Cricket Tournament Name: ' + self.get_name() + '\\n' + 'Number of Teams: ' + str(self.__nTeams) + '\\n' + 'Type: ' + self.__type\n",
    "class Tennis_Tournament(Tournament):\n",
    "    def __init__(self, name=\"Default\", nPlayers=0):\n",
    "        super().__init__(name)\n",
    "        self.__nPlayers = nPlayers\n",
    "    def detail(self):\n",
    "        return 'Tennis Tournament Name: ' + self.get_name() + '\\n' + 'Number of Players: ' + str(self.__nPlayers)\n",
    "    \n",
    "ct1 = Cricket_Tournament()\n",
    "print(ct1.detail())\n",
    "print(\"-----------------------\")\n",
    "ct2 = Cricket_Tournament(\"IPL\",10,\"t20\")\n",
    "print(ct2.detail())\n",
    "print(\"-----------------------\")\n",
    "tt = Tennis_Tournament(\"Roland Garros\",128)\n",
    "print(tt.detail())\n"
   ]
  },
  {
   "cell_type": "code",
   "execution_count": 13,
   "metadata": {},
   "outputs": [
    {
     "name": "stdout",
     "output_type": "stream",
     "text": [
      "ID: 1 Title:The AlchemistPrice: 500 ISBN: 97806 Publisher: HarperCollins\n",
      "-----------------------\n",
      "ID: 2 Title:ShottoPrice: 300 Band: Warfaze Duration: 50minutes Genre: Hard Rock\n"
     ]
    }
   ],
   "source": [
    "#Ans to the question no-4:\n",
    "class Product:\n",
    "    def __init__(self,id, title, price):\n",
    "        self.__id = id\n",
    "        self. __title = title\n",
    "        self. __price = price\n",
    "    def get_id_title_price(self):\n",
    "        return \"ID: \"+str(self.__id)+\" Title:\"+self.__title+\"Price: \"+str(self.__price)\n",
    "class Book(Product):\n",
    "    def __init__(self, id, title, price, isbn, pub):\n",
    "        super().__init__(id, title, price)\n",
    "        self.__isbn = isbn\n",
    "        self.__pub = pub\n",
    "    def printDetail(self):\n",
    "        return self.get_id_title_price() + ' ISBN: ' + str(self.__isbn) + ' Publisher: ' + self.__pub\n",
    "class CD(Product):\n",
    "    def __init__(self, id, title, price, band, dur, genr):\n",
    "        super().__init__(id, title, price)\n",
    "        self.__band = band\n",
    "        self.__dur = dur\n",
    "        self.__genr = genr\n",
    "    def printDetail(self):\n",
    "        return self.get_id_title_price()+' Band: '+self.__band+' Duration: '+str(self.__dur)+'minutes'+' Genre: '+self.__genr \n",
    "\n",
    "book = Book(1,\"The Alchemist\",500,\"97806\",\"HarperCollins\")\n",
    "print(book.printDetail())\n",
    "print(\"-----------------------\")\n",
    "cd = CD(2,\"Shotto\",300,\"Warfaze\",50,\"Hard Rock\")\n",
    "print(cd.printDetail())"
   ]
  },
  {
   "cell_type": "code",
   "execution_count": 29,
   "metadata": {},
   "outputs": [
    {
     "name": "stdout",
     "output_type": "stream",
     "text": [
      "Animal does not make sound\n",
      "meow\n",
      "bark\n"
     ]
    }
   ],
   "source": [
    "#Ans to the question no-5:\n",
    "class Animal:\n",
    "    def __init__(self,sound):\n",
    "        self.__sound = sound\n",
    "    def makeSound(self):\n",
    "        return self.__sound\n",
    "class Printer:\n",
    "    def printSound(self, a):\n",
    "        print(a.makeSound())\n",
    "class Dog(Animal):\n",
    "    def __init__(self,sound):\n",
    "        super().__init__(sound)\n",
    "class Cat(Animal) :\n",
    "    def __init__(self,sound):\n",
    "        super().__init__(sound)\n",
    "\n",
    "d1 = Dog('bark')\n",
    "c1 = Cat('meow')\n",
    "a1 = Animal('Animal does not make sound')\n",
    "pr = Printer()\n",
    "pr.printSound(a1)\n",
    "pr.printSound(c1)\n",
    "pr.printSound(d1)"
   ]
  },
  {
   "cell_type": "code",
   "execution_count": 31,
   "metadata": {},
   "outputs": [
    {
     "name": "stdout",
     "output_type": "stream",
     "text": [
      "Shape name: Default\n",
      "Height: 0,Base: 0\n",
      "Area: 0.0\n",
      "--------------------------\n",
      "Shape name: Triangle\n",
      "Height: 10,Base: 5\n",
      "Area: 25.0\n",
      "---------------------------\n",
      "Shape name: Trapezoid\n",
      "Height: 10,Base: 6, Side_A: 4\n",
      "Area: 50.0\n"
     ]
    }
   ],
   "source": [
    "#Ans to the question no-6:\n",
    "import math\n",
    "class Shape:\n",
    "    def __init__(self, name='Default', height=0, base=0):\n",
    "        self.area = 0\n",
    "        self.name = name\n",
    "        self.height = height\n",
    "        self.base = base\n",
    "    def get_height_base(self):\n",
    "        return \"Height: \"+str(self.height)+\",Base: \"+str(self.base)\n",
    "class triangle(Shape):\n",
    "    def __init__(self, name=\"Default\", height=0, base=0):\n",
    "        super().__init__(name, height, base)\n",
    "    def calcArea(self):\n",
    "        self.area = 0.5 * self.height * self.base\n",
    "    def printDetail(self):\n",
    "        return 'Shape name: '+self.name+'\\n'+self.get_height_base()+'\\n'+'Area: ' + str(self.area)\n",
    "class trapezoid(Shape):\n",
    "    def __init__(self, name=\"Default\", height=0, base=0, sideA=0):\n",
    "        super().__init__(name, height, base)\n",
    "        self.sizeA = sideA\n",
    "    def calcArea(self):\n",
    "        self.area = ((self.base - (math.cos(math.radians(self.height / self.sizeA)) * 2)) + self.base) / 2 * self.height\n",
    "    def printDetail(self):\n",
    "        return 'Shape name: '+self.name+'\\n'+self.get_height_base()+', Side_A: '+str(self.sizeA)+'\\n'+'Area: ' + str(round(self.area,1))\n",
    "\n",
    "tri_default = triangle()\n",
    "tri_default.calcArea()\n",
    "print(tri_default.printDetail())\n",
    "print('--------------------------')\n",
    "tri = triangle('Triangle', 10, 5)\n",
    "tri.calcArea()\n",
    "print(tri.printDetail())\n",
    "print('---------------------------')\n",
    "trap = trapezoid('Trapezoid', 10, 6, 4)\n",
    "trap.calcArea()\n",
    "print(trap.printDetail())\n"
   ]
  },
  {
   "cell_type": "code",
   "execution_count": 28,
   "metadata": {},
   "outputs": [
    {
     "name": "stdout",
     "output_type": "stream",
     "text": [
      "Name: Ronaldo, Team Name: Juventus\n",
      "Team Role Striker\n",
      "Total Goal: 25 Total Played: 32\n",
      "Goal Ratio: 0.78125\n",
      "Match Earning: 25320k\n",
      "------------------------------------------\n",
      "Name: Zidane, Team Name: Real Madrid\n",
      "Team Role Manager\n",
      "Total Win: 25\n",
      "Match Earning: 25000k\n"
     ]
    }
   ],
   "source": [
    "#Ans to the question no-7:\n",
    "class Football:\n",
    "    def __init__(self, team_name, name, role):\n",
    "        self.__team = team_name\n",
    "        self.__name = name\n",
    "        self.role = role\n",
    "        self.earning_per_match = 0\n",
    "    def get_name_team(self):\n",
    "        return 'Name: '+self.__name+', Team Name: ' +self.__team\n",
    "class Player(Football):\n",
    "    def __init__(self, team_name, name, role , total_goal , total_mach):\n",
    "        super().__init__(team_name,name,role)\n",
    "        self.total_goal=total_goal\n",
    "        self.total_mach=total_mach\n",
    "    def calculate_ratio(self):\n",
    "        self.earning_per_match= (self.total_goal * 1000) + (self.total_mach * 10)    \n",
    "    def print_details(self):\n",
    "        print(Football.get_name_team(self))\n",
    "        print(\"Team Role\",self.role)\n",
    "        print(\"Total Goal:\",self.total_goal,\"Total Played:\",self.total_mach)\n",
    "        print(\"Goal Ratio:\",(self.total_goal/self.total_mach))\n",
    "        print(f\"Match Earning: {self.earning_per_match}k\")\n",
    "class Manager(Football):\n",
    "    def __init__(self, team_name, name, role,total_win):\n",
    "        super().__init__(team_name, name, role)\n",
    "        self.total_win=total_win\n",
    "    def print_details(self):\n",
    "        print(Football.get_name_team(self))\n",
    "        print(\"Team Role\",self.role)\n",
    "        print(\"Total Win:\",self.total_win)\n",
    "        print(f\"Match Earning: {(self.total_win*1000)}k\")\n",
    "        \n",
    "player_one = Player('Juventus', 'Ronaldo', 'Striker', 25, 32)\n",
    "player_one.calculate_ratio()\n",
    "player_one.print_details()\n",
    "print('------------------------------------------')\n",
    "manager_one = Manager('Real Madrid', 'Zidane', 'Manager', 25)\n",
    "manager_one.print_details()"
   ]
  },
  {
   "cell_type": "code",
   "execution_count": null,
   "metadata": {},
   "outputs": [],
   "source": []
  }
 ],
 "metadata": {
  "kernelspec": {
   "display_name": "Python 3",
   "language": "python",
   "name": "python3"
  },
  "language_info": {
   "codemirror_mode": {
    "name": "ipython",
    "version": 3
   },
   "file_extension": ".py",
   "mimetype": "text/x-python",
   "name": "python",
   "nbconvert_exporter": "python",
   "pygments_lexer": "ipython3",
   "version": "3.7.6"
  }
 },
 "nbformat": 4,
 "nbformat_minor": 4
}
