{
 "cells": [
  {
   "cell_type": "code",
   "execution_count": 3,
   "metadata": {},
   "outputs": [
    {
     "name": "stdout",
     "output_type": "stream",
     "text": [
      "please type anything : HOusE\n",
      "HOUSE\n"
     ]
    }
   ],
   "source": [
    "#Ans of String-1:\n",
    "\n",
    "n=input('please type anything : ')\n",
    "l=0\n",
    "u=0\n",
    "for i in n:\n",
    "    if 65<=ord(i)<=90:\n",
    "        u+=1\n",
    "    elif 97<=ord(i)<=122:\n",
    "        l+=1\n",
    "if u>l:\n",
    "    print(n.upper())\n",
    "else:\n",
    "    print(n.lower())"
   ]
  },
  {
   "cell_type": "code",
   "execution_count": 16,
   "metadata": {},
   "outputs": [
    {
     "name": "stdout",
     "output_type": "stream",
     "text": [
      "dsfsf51sdfds\n",
      "Mixed\n"
     ]
    }
   ],
   "source": [
    "#Ans of String-2:\n",
    "\n",
    "n=input('please type something : ')\n",
    "count=0\n",
    "for i in n:\n",
    "   if ord(i)>=48 and ord(i)<=57:\n",
    "        count+=1\n",
    "if count==len(n):\n",
    "    print(\"Number\")\n",
    "elif count==0:\n",
    "    print(\"Word\")\n",
    "else:\n",
    "    print(\"Mixed\")\n"
   ]
  },
  {
   "cell_type": "code",
   "execution_count": 17,
   "metadata": {},
   "outputs": [
    {
     "name": "stdout",
     "output_type": "stream",
     "text": [
      "Enter any word :coDIng\n",
      "BLANK\n"
     ]
    }
   ],
   "source": [
    "#Ans of String-3:\n",
    "\n",
    "letters = input(\"please type something :\")\n",
    "initial = 0\n",
    "for i in range (len(letters)):\n",
    "    if letters[i].isupper() and initial is 0:\n",
    "        z = i+1\n",
    "        initial += 1\n",
    "    elif letters[i].isupper() and initial is 1:\n",
    "        y = i\n",
    "    else:\n",
    "        continue\n",
    "if (letters[z:y]) is \"\":\n",
    "    print('BLANK')\n",
    "else:\n",
    "    print(letters[z:y])\n"
   ]
  },
  {
   "cell_type": "code",
   "execution_count": 18,
   "metadata": {},
   "outputs": [
    {
     "name": "stdout",
     "output_type": "stream",
     "text": [
      "Enter a sentence: The book is not too good!\n",
      "The book is not excellent!\n"
     ]
    }
   ],
   "source": [
    "#Ans of String-4:\n",
    "\n",
    "n = input(\"Enter a sentence: \")\n",
    "match_word = \"too good\"\n",
    "replace_word = \"excellent\"\n",
    "if match_word in n:\n",
    "    n = n.replace(match_word,replace_word)\n",
    "print(n)"
   ]
  },
  {
   "cell_type": "code",
   "execution_count": 30,
   "metadata": {},
   "outputs": [
    {
     "name": "stdout",
     "output_type": "stream",
     "text": [
      "String-1 :harry\n",
      "String-2 :hermione\n",
      "hrhrr\n"
     ]
    }
   ],
   "source": [
    "#Ans of String-5:\n",
    "\n",
    "m=input('String-1 :')\n",
    "n=input('String-2 :')\n",
    "common=''\n",
    "\n",
    "for i in n:\n",
    "  if i in m:\n",
    "    common+=i\n",
    "for i in m:\n",
    "  if i in n:\n",
    "    common+=i \n",
    "if len(common)==0:\n",
    "  print('Nothing in common')\n",
    "else:\n",
    "  print(common)"
   ]
  },
  {
   "cell_type": "code",
   "execution_count": 29,
   "metadata": {},
   "outputs": [
    {
     "name": "stdout",
     "output_type": "stream",
     "text": [
      "Password:OhMyBR@CU20\n",
      "Ok\n"
     ]
    }
   ],
   "source": [
    "#Ans of String-6:\n",
    "\n",
    "user=input('Password Please :')\n",
    "upper_count=0\n",
    "lower_count=0\n",
    "special_count=0\n",
    "digit_count=0\n",
    "for  i in user:\n",
    "  if i.isalpha():\n",
    "    lower=i.lower()\n",
    "    upper=i.upper()\n",
    "    if ord(i)==ord(lower):\n",
    "      lower_count+=1\n",
    "    if ord(i)==ord(upper):\n",
    "      upper_count+=1\n",
    "  if i.isdigit():\n",
    "    digit_count+=1\n",
    "  if not i.isdigit() and not i.isalpha():\n",
    "    special_count+=1\n",
    "    \n",
    "if upper_count==0:\n",
    "  print('Uppercase character missing',end=',')\n",
    "if lower_count==0:\n",
    "  print('Lowercase character missing',end=',')\n",
    "if digit_count==0:\n",
    "  print('Digit missing',end=',')\n",
    "if special_count==0:\n",
    "  print('Special character missing')\n",
    "else:\n",
    "  print('Ok')\n"
   ]
  },
  {
   "cell_type": "code",
   "execution_count": 31,
   "metadata": {},
   "outputs": [
    {
     "name": "stdout",
     "output_type": "stream",
     "text": [
      "Enter your input: 10\n",
      "Enter your input: 20\n",
      "Enter your input: 20\n",
      "Enter your input: 30\n",
      "Enter your input: 10\n",
      "Enter your input: 50\n",
      "Enter your input: 90\n",
      "Enter your input: STOP\n",
      "10 - 2 times\n",
      "20 - 2 times\n",
      "30 - 1 times\n",
      "50 - 1 times\n",
      "90 - 1 times\n"
     ]
    }
   ],
   "source": [
    "#Ans of list-1:\n",
    "\n",
    "ls=[]\n",
    "checklist=[]\n",
    "inp= input(\"Enter your input: \")\n",
    "while inp!=\"STOP\":\n",
    "    ls.append(inp)\n",
    "    inp=input(\"Enter your input: \")\n",
    "for val in ls:\n",
    "    if val not in checklist:\n",
    "        count=ls.count(val)\n",
    "        print(val, \"-\", count, \"times\")\n",
    "        checklist.append(val)\n"
   ]
  },
  {
   "cell_type": "code",
   "execution_count": 35,
   "metadata": {},
   "outputs": [
    {
     "name": "stdout",
     "output_type": "stream",
     "text": [
      "How many times do you want to give input: 4\n",
      "Enter a collection of number separated by space:1 2 3\n",
      "Enter a collection of number separated by space:4 5 6\n",
      "Enter a collection of number separated by space:10 11 12\n",
      "Enter a collection of number separated by space:7 8 9\n",
      "33\n",
      "[10, 11, 12]\n"
     ]
    }
   ],
   "source": [
    "#Ans of list-2:\n",
    "num_list = []\n",
    "total_input = int(input(\"How many times do you want to give input: \"))\n",
    "\n",
    "for i in range(total_input):\n",
    "    uin = list(map(int,input(\"Enter a collection of number separated by space:\").split(\" \")))\n",
    "    num_list.append(uin)\n",
    "\n",
    "highest_sum = 0\n",
    "highest_sum_list = []\n",
    "\n",
    "for lst in num_list:\n",
    "    lst_sum = sum(lst)\n",
    "    if lst_sum > highest_sum:\n",
    "        highest_sum = lst_sum\n",
    "        highest_sum_list = lst\n",
    "print(highest_sum)\n",
    "print(highest_sum_list)\n"
   ]
  },
  {
   "cell_type": "code",
   "execution_count": 37,
   "metadata": {},
   "outputs": [
    {
     "name": "stdout",
     "output_type": "stream",
     "text": [
      "Enter a list of numbers seperated by spaces: 2 3 6\n",
      "Enter another list of numbers seperated by spaces: 3 4 5\n",
      "[6, 8, 10, 9, 12, 15, 18, 24, 30]\n"
     ]
    }
   ],
   "source": [
    "#Ans of list-3:\n",
    "\n",
    "strin=input(\"Enter a list of numbers seperated by spaces: \")\n",
    "st=input(\"Enter another list of numbers seperated by spaces: \")\n",
    "m=st.split()\n",
    "n=strin.split()\n",
    "productls=[]\n",
    "for val1 in n:\n",
    "    for val2 in m:\n",
    "        product= int(val1)*int(val2)\n",
    "        productls.append(product)\n",
    "print(productlist)\n"
   ]
  },
  {
   "cell_type": "code",
   "execution_count": 13,
   "metadata": {},
   "outputs": [
    {
     "name": "stdout",
     "output_type": "stream",
     "text": [
      "hello\n"
     ]
    }
   ],
   "source": [
    "#Ans of list-4:\n",
    "\n",
    "n=input('type anything : ').split()\n",
    "ls=[]\n",
    "strin = ''\n",
    "for i in range(len(n)-1):\n",
    "    a=int(n[i])-int(n[i+1])\n",
    "    a=abs(a)\n",
    "    ls.append(a)\n",
    "\n",
    "for j in range(1,len(n)):\n",
    "    if j in ls:\n",
    "        strin='UB JUMPER'\n",
    "    else:\n",
    "        strin='NOT UB JUMPER'\n",
    "        break\n",
    "print(strin)"
   ]
  },
  {
   "cell_type": "code",
   "execution_count": 47,
   "metadata": {},
   "outputs": [
    {
     "name": "stdout",
     "output_type": "stream",
     "text": [
      "Enter an alphanumeric string: Bracu1234\n",
      "acruB1324\n"
     ]
    }
   ],
   "source": [
    "#Ans of list-5:\n",
    "\n",
    "string=input(\"Enter an alphanumeric string: \")\n",
    "charls=[]\n",
    "newstring=\"\"\n",
    "for char in string:\n",
    "    charls.append(char)\n",
    "charls.sort()\n",
    "for char in charls:\n",
    "    if char.islower():\n",
    "        newstring+=char\n",
    "for char in charls:\n",
    "    if char.isupper():\n",
    "        newstring+=char\n",
    "for char in charls:\n",
    "    if char.isnumeric():\n",
    "        if int(char)%2!=0:\n",
    "            newstring+=char\n",
    "for char in charls:\n",
    "    if char not in newstring:\n",
    "        newstring+=char\n",
    "print(newstring)"
   ]
  },
  {
   "cell_type": "code",
   "execution_count": 61,
   "metadata": {},
   "outputs": [
    {
     "name": "stdout",
     "output_type": "stream",
     "text": [
      "Enter two integer numbers :6 4\n",
      "Enter the times of attempt: 0 1 2 3 4 5\n",
      "Maximum Number of teams = 0\n"
     ]
    }
   ],
   "source": [
    "#Ans of list-6:\n",
    "\n",
    "integer = (input(\"Enter two integer numbers :\"))\n",
    "integer = integer.split(\" \")\n",
    "n= int(integer[0])\n",
    "k= int(integer[1])\n",
    "attempt_time = input('Enter the times of attempt: ')\n",
    "attempt_time = attempt_time.split(' ')\n",
    "if len(attempt_time) == n :\n",
    "    count = 0\n",
    "    for i in range (0 ,len(attempt_time)):\n",
    "        attempt_time[i] = int(attempt_time[i])\n",
    "    for z in range (0, len(attempt_time)):\n",
    "        if attempt_time[z]+ k<= 5:\n",
    "            count += 1\n",
    "    maximum_teams = (count // 3)\n",
    "    print(\"Maximum Number of teams =\",maximum_teams)\n",
    "else:\n",
    "    print(\"Invalid input\")"
   ]
  },
  {
   "cell_type": "code",
   "execution_count": 56,
   "metadata": {},
   "outputs": [
    {
     "name": "stdout",
     "output_type": "stream",
     "text": [
      "a: 100, b: 100, c: 200, d: 300\n",
      "a: 300, b: 200, d: 400, e: 200\n",
      "{'a': 400, 'b': 300, 'c': 200, 'd': 700, 'e': 200}\n",
      "(200, 300, 400, 700)\n"
     ]
    }
   ],
   "source": [
    "#Ans of dictionary-1\n",
    "\n",
    "inp1 = input('enter a dictionary : ').split(', ')\n",
    "inp2 = input('enter another dictionary : ').split(', ')\n",
    "def toNumber(num):\n",
    "  if float(num) - int(num) == 0:\n",
    "    return int(num)\n",
    "  else:\n",
    "    return float(num)\n",
    "dic1 = {}\n",
    "for x in inp1:\n",
    "  x_arr = x.split(': ')\n",
    "  dic1[x_arr[0]] = toNumber(x_arr[1])\n",
    "dic2 = {}\n",
    "for x in inp2:\n",
    "  x_arr = x.split(': ')\n",
    "  dic2[x_arr[0]] = toNumber(x_arr[1])\n",
    "dic3 = dic1\n",
    "lst = []\n",
    "for key in dic2:\n",
    "  if key in dic3.keys():\n",
    "    dic3[key] += dic2[key]\n",
    "  else:\n",
    "    dic3[key] = dic2[key]\n",
    "  lst.append(dic3[key])\n",
    "def bubbleSort(arr): \n",
    "  n = len(arr)\n",
    "  for i in range(n-1):\n",
    "    for j in range(0, n-i-1):\n",
    "      if arr[j] > arr[j+1] : \n",
    "        arr[j], arr[j+1] = arr[j+1], arr[j] \n",
    "bubbleSort(lst)\n",
    "tpl = tuple(lst)\n",
    "print(dic3)\n",
    "print(tpl)\n"
   ]
  },
  {
   "cell_type": "code",
   "execution_count": 55,
   "metadata": {},
   "outputs": [
    {
     "name": "stdout",
     "output_type": "stream",
     "text": [
      "Enter a number(Type 'STOP' to quit): 10\n",
      "Enter a number(Type 'STOP' to quit): 20\n",
      "Enter a number(Type 'STOP' to quit): 20\n",
      "Enter a number(Type 'STOP' to quit): 30\n",
      "Enter a number(Type 'STOP' to quit): 10\n",
      "Enter a number(Type 'STOP' to quit): 50\n",
      "Enter a number(Type 'STOP' to quit): 90\n",
      "Enter a number(Type 'STOP' to quit): STOP\n",
      "10 - 2 times\n",
      "20 - 2 times\n",
      "30 - 1 times\n",
      "50 - 1 times\n",
      "90 - 1 times\n"
     ]
    }
   ],
   "source": [
    "#Ans of dictionary-2\n",
    "ls = []\n",
    "while True:\n",
    "    n = input(\"Enter a number(Type 'STOP' to quit): \")\n",
    "    if n.upper() == \"STOP\":\n",
    "        break\n",
    "    ls.append(int(n))\n",
    "count_dict = {}\n",
    "for n in ls:\n",
    "    if n not in count_dict:\n",
    "        count_dict[n] = 1\n",
    "    else:\n",
    "        count_dict[n] += 1\n",
    "for k,v in count_dict.items():\n",
    "    print(str(k) + \" - \"+ str(v) + \" times\")\n"
   ]
  },
  {
   "cell_type": "code",
   "execution_count": 57,
   "metadata": {},
   "outputs": [
    {
     "name": "stdout",
     "output_type": "stream",
     "text": [
      "Dictionary please : key1 : value1, key2 : value2, key3 : value1\n",
      "{'value1': ['key1', 'key3'], 'value2': ['key2']}\n"
     ]
    }
   ],
   "source": [
    "#Ans of dictionary-3\n",
    "input1 = input('Dictionary please : ')\n",
    "main1 = input1.split(', ')\n",
    "dic1={}\n",
    "main2=0\n",
    "\n",
    "dic2={}\n",
    "for i in main1:\n",
    "    val1,val2=i.split(' : ')\n",
    "\n",
    "    dic1[val1]=val2\n",
    "for key,val in dic1.items():\n",
    "    if val in dic2:\n",
    "        dic2[val].append(key)\n",
    "    else:\n",
    "        dic2[val]= [key]\n",
    "print(dic2)"
   ]
  },
  {
   "cell_type": "code",
   "execution_count": 62,
   "metadata": {},
   "outputs": [
    {
     "name": "stdout",
     "output_type": "stream",
     "text": [
      "Enter different arranging word :live\n",
      "Enter the original word :evil\n",
      "Those strings are anagrams\n"
     ]
    }
   ],
   "source": [
    "#Ans of dictionary-4\n",
    "w1=input('Enter different arranging word :')\n",
    "w2=input('Enter the original word :')\n",
    "d1={}\n",
    "d2={}\n",
    "count=0\n",
    "for i in w1:\n",
    "    d1[count]=i\n",
    "    count=count+1\n",
    "count=0\n",
    "for i in w2:\n",
    "    d2[count]=i\n",
    "    count=count+1\n",
    "if(len(d1)!=len(d2)):\n",
    "    print(\"Those strings are not anagrams\")\n",
    "elif(sorted(d1.values())==sorted(d2.values())):\n",
    "    print(\"Those strings are anagrams\")\n",
    "else:\n",
    "    print(\"Those strings are not anagrams\")\n"
   ]
  },
  {
   "cell_type": "code",
   "execution_count": 53,
   "metadata": {},
   "outputs": [
    {
     "name": "stdout",
     "output_type": "stream",
     "text": [
      "Hello,World!\n",
      "['H', 'E', 'L', 'L', 'O', ',', 'W', 'O', 'R', 'L', 'D', '!']\n",
      "443355555566611966677755531111\n"
     ]
    }
   ],
   "source": [
    "#Ans of dictionary-5\n",
    "\n",
    "symbols = [\"0\", \".,?!:\", \"ABC\", \"DEF\", \"GHI\", \"JKL\", \"MNO\", \"PQRS\", \"TUV\", \"WXYZ\"]\n",
    "dic = {}\n",
    "for i in range(len(symbols)):\n",
    "  chars = list(symbols[i])\n",
    "  for j in range(len(chars)):\n",
    "    dic[chars[j]] = ''.join([str(i) for x in range(j+1)])\n",
    "inp_list = list(str(input()).upper())\n",
    "print(inp_list)\n",
    "arr = []\n",
    "for x in inp_list:\n",
    "  if x == ' ':\n",
    "    x = '0'\n",
    "  if x in dic.keys():\n",
    "    arr.append(dic[x])\n",
    "print(''.join(arr))\n"
   ]
  },
  {
   "cell_type": "code",
   "execution_count": null,
   "metadata": {},
   "outputs": [],
   "source": []
  }
 ],
 "metadata": {
  "kernelspec": {
   "display_name": "Python 3",
   "language": "python",
   "name": "python3"
  },
  "language_info": {
   "codemirror_mode": {
    "name": "ipython",
    "version": 3
   },
   "file_extension": ".py",
   "mimetype": "text/x-python",
   "name": "python",
   "nbconvert_exporter": "python",
   "pygments_lexer": "ipython3",
   "version": "3.7.6"
  }
 },
 "nbformat": 4,
 "nbformat_minor": 4
}
