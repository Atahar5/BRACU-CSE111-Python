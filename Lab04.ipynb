{
 "cells": [
  {
   "cell_type": "code",
   "execution_count": 29,
   "metadata": {},
   "outputs": [
    {
     "name": "stdout",
     "output_type": "stream",
     "text": [
      "Let’s Calculate!\n",
      "Value 1:1\n",
      "Oparator:+\n",
      "Value 2:2\n",
      "Result: 3\n"
     ]
    }
   ],
   "source": [
    "# task-1:\n",
    "class Calculator:\n",
    "    def __init__(self):\n",
    "        print(\"Let’s Calculate!\")\n",
    "    def add(self, num1, num2):\n",
    "        return num1 + num2\n",
    "    def subtract(self, num1, num2):\n",
    "        return num1 - num2\n",
    "    def divide(self, num1, num2):\n",
    "        return num1 / num2\n",
    "    def multiply(self, num1, num2):\n",
    "        return num1 * num2\n",
    "calculator = Calculator()\n",
    "val1 = float(input(\"Value 1:\"))\n",
    "oparator = input(\"Oparator:\")\n",
    "val2 = float(input(\"Value 2:\"))\n",
    "result = 0\n",
    "if oparator == '+': result = calculator.add(val1, val2)\n",
    "elif oparator == '-': result = calculator.subtract(val1, val2)\n",
    "elif oparator == '*': result = calculator.multiply(val1, val2)\n",
    "elif oparator == '/': result = calculator.divide(val1, val2)\n",
    "if int(result) == result: result = int(result)\n",
    "print(\"Result:\", result)"
   ]
  },
  {
   "cell_type": "code",
   "execution_count": 23,
   "metadata": {},
   "outputs": [
    {
     "name": "stdout",
     "output_type": "stream",
     "text": [
      "Hello!\n",
      "Sam ,You have purchased 3 item(s):\n",
      "chips\n",
      "chocolate\n",
      "orange juice\n",
      "-----------------------------\n",
      "Hello David !\n",
      "David ,You have purchased 1 item(s):\n",
      "orange juice\n"
     ]
    }
   ],
   "source": [
    "# task-2:\n",
    "class Customer:\n",
    "    def __init__(self,name):\n",
    "        self.name=name\n",
    "    def purchase(self,*pro):\n",
    "        if len(pro)==3:\n",
    "            self.pro1=pro[0]\n",
    "            self.pro2=pro[1]\n",
    "            self.pro3=pro[2]\n",
    "            print(self.name,\",You have purchased 3 item(s):\")\n",
    "            print(self.pro1)\n",
    "            print(self.pro2)\n",
    "            print(self.pro3)\n",
    "        elif len(pro)==1:\n",
    "            self.pro1=pro[0]\n",
    "            print(self.name,\",You have purchased 1 item(s):\")\n",
    "            print(self.pro1)\n",
    "    def greet(self,*name):\n",
    "        if len(name)==1:\n",
    "            self.name=name[0]\n",
    "            print(\"Hello\",self.name,\"!\")\n",
    "        else:\n",
    "            print(\"Hello!\")           \n",
    "customer_1 = Customer(\"Sam\")\n",
    "customer_1.greet()\n",
    "customer_1.purchase(\"chips\", \"chocolate\", \"orange juice\")\n",
    "print(\"-----------------------------\")\n",
    "customer_2 = Customer(\"David\")\n",
    "customer_2.greet(\"David\")\n",
    "customer_2.purchase(\"orange juice\")"
   ]
  },
  {
   "cell_type": "code",
   "execution_count": 20,
   "metadata": {},
   "outputs": [
    {
     "name": "stdout",
     "output_type": "stream",
     "text": [
      "Kunfu is a Male Panda Bear who is 5 years old\n",
      "Pan Pan is a Female Panda Bear who is 3 years old\n",
      "Ming Ming is a Female Panda Bear who is 8 years old\n",
      "Pan Pan sleeps 10 hours daily and should have Broccoli Chicken\n",
      "Kunfu sleeps 4 hours daily and should have Mixed Veggies\n",
      "Ming Ming's duration is unknown thus should have only bamboo leaves\n"
     ]
    }
   ],
   "source": [
    "# task-3:\n",
    "class Panda:\n",
    "    def __init__(self,name,gender,age):\n",
    "        self.name = name\n",
    "        self.gender = gender\n",
    "        self.age = age      \n",
    "    def sleep(self,hours = None):\n",
    "        food = \"\"\n",
    "        if hours == None:\n",
    "            food += \"bamboo leaves\"\n",
    "        elif hours >= 3 and hours <= 5:\n",
    "            food += \"Mixed Veggies\"\n",
    "        elif hours >= 6 and hours <= 8:\n",
    "            food += \"Eggplant & Tofu\"\n",
    "        elif hours >= 9 and hours <= 11:\n",
    "            food += \"Broccoli Chicken\"          \n",
    "        if hours == None:\n",
    "            return f\"{self.name}'s duration is unknown thus should have only {food}\"\n",
    "        else:\n",
    "            return f\"{self.name} sleeps {hours} hours daily and should have {food}\"\n",
    "panda1 = Panda(\"Kunfu\",\"Male\", 5)\n",
    "panda2=Panda(\"Pan Pan\",\"Female\",3)\n",
    "panda3=Panda(\"Ming Ming\",\"Female\",8)\n",
    "print(\"{} is a {} Panda Bear who is {} years old\".format(panda1.name,panda1.gender,panda1.age))\n",
    "print(\"{} is a {} Panda Bear who is {} years old\".format(panda2.name,panda2.gender,panda2.age))\n",
    "print(\"{} is a {} Panda Bear who is {} years old\".format(panda3.name,panda3.gender,panda3.age))\n",
    "print(panda2.sleep(10))\n",
    "print(panda1.sleep(4))\n",
    "print(panda3.sleep())"
   ]
  },
  {
   "cell_type": "code",
   "execution_count": 28,
   "metadata": {},
   "outputs": [
    {
     "name": "stdout",
     "output_type": "stream",
     "text": [
      "White cat is sitting\n",
      "Black cat is sitting\n",
      "Brown cat is jumping\n",
      "Red cat is purring\n",
      "Blue cat is sitting\n",
      "Purple cat is jumping\n"
     ]
    }
   ],
   "source": [
    "# task-4:\n",
    "class Cat:\n",
    "    def __init__(self, color = 'White', job = 'sitting'):\n",
    "        self.color = color\n",
    "        self.job = job\n",
    "    def changeColor(self, color):\n",
    "        self.color = color\n",
    "    def printCat(self):\n",
    "        print(self.color, 'cat is', self.job)    \n",
    "c1 = Cat()\n",
    "c2 = Cat(\"Black\")\n",
    "c3 = Cat(\"Brown\", \"jumping\")\n",
    "c4 = Cat(\"Red\", \"purring\")\n",
    "c1.printCat()\n",
    "c2.printCat()\n",
    "c3.printCat()\n",
    "c4.printCat()\n",
    "c1.changeColor(\"Blue\")\n",
    "c3.changeColor(\"Purple\")\n",
    "c1.printCat()\n",
    "c3.printCat()"
   ]
  },
  {
   "cell_type": "code",
   "execution_count": 30,
   "metadata": {},
   "outputs": [
    {
     "name": "stdout",
     "output_type": "stream",
     "text": [
      "(0,0)\n",
      "(0,1)\n",
      "(-1,1)\n",
      "(-1,0)\n"
     ]
    }
   ],
   "source": [
    "# task-5:\n",
    "class Vehicle:\n",
    "    def __init__(self):\n",
    "        self.x = 0\n",
    "        self.y = 0\n",
    "    def print_position(self):\n",
    "        print('({},{})'.format(self.x, self.y))\n",
    "    def moveRight(self): self.x += 1\n",
    "    def moveLeft(self): self.x -= 1\n",
    "    def moveUp(self): self.y += 1\n",
    "    def moveDown(self): self.y -= 1\n",
    "car = Vehicle()\n",
    "car.print_position()\n",
    "car.moveUp()\n",
    "car.print_position()\n",
    "car.moveLeft()\n",
    "car.print_position()\n",
    "car.moveDown()\n",
    "car.print_position()\n",
    "car.moveRight()"
   ]
  },
  {
   "cell_type": "code",
   "execution_count": 36,
   "metadata": {},
   "outputs": [
    {
     "name": "stdout",
     "output_type": "stream",
     "text": [
      "Horray! A new programmer is born\n",
      "Name: Ethen Hunt\n",
      "Language: Java\n",
      "Experience: 10 years\n",
      "--------------------------\n",
      "Horray! A new programmer is born\n",
      "Name: James Bond\n",
      "Language: C++\n",
      "Experience: 7 years\n",
      "--------------------------\n",
      "Horray! A new programmer is born\n",
      "Name: Jon Snow\n",
      "Language: Python\n",
      "Experience: 4 years\n",
      "Updating experience of Jon Snow\n",
      "Name: Jon Snow\n",
      "Language: Python\n",
      "Experience: 9 years\n"
     ]
    }
   ],
   "source": [
    "# task-6:\n",
    "class Programmer:\n",
    "    def __init__(self,name,language,experience):\n",
    "        self.name=name\n",
    "        self.language=language\n",
    "        self.experience=experience\n",
    "        print(\"Horray! A new programmer is born\")\n",
    "    def addExp(self,exp):\n",
    "        print(\"Updating experience of Jon Snow\")\n",
    "        self.experience+=exp\n",
    "    def printDetails(self):\n",
    "        print(\"Name:\",self.name)\n",
    "        print(\"Language:\",self.language)\n",
    "        print(\"Experience:\", self.experience,\"years\")\n",
    "p1 = Programmer(\"Ethen Hunt\", \"Java\", 10)\n",
    "p1.printDetails()\n",
    "print('--------------------------')\n",
    "p2 = Programmer(\"James Bond\", \"C++\", 7)\n",
    "p2.printDetails()\n",
    "print('--------------------------')\n",
    "p3 = Programmer(\"Jon Snow\", \"Python\", 4)\n",
    "p3.printDetails()\n",
    "p3.addExp(5)\n",
    "p3.printDetails()"
   ]
  },
  {
   "cell_type": "code",
   "execution_count": 3,
   "metadata": {},
   "outputs": [
    {
     "name": "stdout",
     "output_type": "stream",
     "text": [
      "Name: Harry Potter\n",
      "ID: 123\n",
      "Department: CSE\n",
      "Daily Effort: 3 hour(s)\n",
      "Suggestion: Keep up the good work!\n",
      "========================\n",
      "Name: John Wick\n",
      "ID: 456\n",
      "Department: BBA\n",
      "Daily Effort: 2 hour(s)\n",
      "Suggestion: Should give more effort!\n",
      "========================\n",
      "Name: Naruto Uzumaki\n",
      "ID: 777\n",
      "Department: Ninja\n",
      "Daily Effort: 6 hour(s)\n",
      "Suggestion: Excellent! Now motivate others.\n"
     ]
    }
   ],
   "source": [
    "# task-7:\n",
    "class Student:\n",
    "    def __init__(self,name,id,department=\"CSE\"):\n",
    "        self.name=name\n",
    "        self.id=id\n",
    "        self.department=department\n",
    "    def dailyEffort(self,hour):\n",
    "        self.effort=hour\n",
    "        if hour<=2:\n",
    "            self.suggestion=\"Suggestion: Should give more effort!\"\n",
    "        elif hour <=4: \n",
    "            self.suggestion=\"Suggestion: Keep up the good work!\"\n",
    "        else:\n",
    "            self.suggestion=\"Suggestion: Excellent! Now motivate others.\"\n",
    "    def printDetails(self):\n",
    "        print(\"Name:\",self.name)\n",
    "        print(\"ID:\",self.id)\n",
    "        print(\"Department:\",self.department)\n",
    "        print(\"Daily Effort:\",self.effort,\"hour(s)\")\n",
    "        print(self.suggestion)\n",
    "harry = Student('Harry Potter', 123)\n",
    "harry.dailyEffort(3)\n",
    "harry.printDetails()\n",
    "print('========================')\n",
    "john = Student(\"John Wick\", 456, \"BBA\")\n",
    "john.dailyEffort(2)\n",
    "john.printDetails()\n",
    "print('========================')\n",
    "naruto = Student(\"Naruto Uzumaki\", 777, \"Ninja\")\n",
    "naruto.dailyEffort(6)\n",
    "naruto.printDetails()"
   ]
  },
  {
   "cell_type": "code",
   "execution_count": 19,
   "metadata": {},
   "outputs": [
    {
     "name": "stdout",
     "output_type": "stream",
     "text": [
      "=========================\n",
      "Name: Thomas\n",
      "Age: 23\n",
      "Symptoms: Headache\n",
      "=========================\n",
      "Name: Carol\n",
      "Age: 20\n",
      "Symptoms: Vomiting, Coughing\n",
      "=========================\n",
      "Name: Mike\n",
      "Age: 25\n",
      "Symptoms: Fever, Headache, Coughing\n",
      "=========================\n"
     ]
    }
   ],
   "source": [
    "# task-8:\n",
    "class Patient:\n",
    "    def __init__(self,name,age):\n",
    "        self.name = name\n",
    "        self.age = age        \n",
    "    def add_Symptom(self,*symptoms):\n",
    "        self.symptom = symptoms    \n",
    "    def printPatientDetail(self):\n",
    "        print(f\"Name: {self.name}\")\n",
    "        print(f\"Age: {self.age}\")\n",
    "        symptom = \", \".join(self.symptom)\n",
    "        print(f\"Symptoms: {symptom}\")\n",
    "p1 = Patient(\"Thomas\", 23)\n",
    "p1.add_Symptom(\"Headache\")\n",
    "p2 = Patient(\"Carol\", 20)\n",
    "p2.add_Symptom(\"Vomiting\", \"Coughing\")\n",
    "p3 = Patient(\"Mike\", 25)\n",
    "p3.add_Symptom(\"Fever\", \"Headache\", \"Coughing\")\n",
    "print(\"=========================\")\n",
    "p1.printPatientDetail()\n",
    "print(\"=========================\")\n",
    "p2.printPatientDetail()\n",
    "print(\"=========================\")\n",
    "p3.printPatientDetail()\n",
    "print(\"=========================\")"
   ]
  },
  {
   "cell_type": "code",
   "execution_count": 33,
   "metadata": {},
   "outputs": [
    {
     "name": "stdout",
     "output_type": "stream",
     "text": [
      "=========================\n",
      "Name: Captain America\n",
      "Partner: Bucky Barnes\n",
      "Super powers: Stamina, Slowed ageing\n",
      "=========================\n",
      "Name: Doctor Strange\n",
      "Partner: Ancient One\n",
      "Super powers: Mastery of magic\n",
      "=========================\n",
      "Name: Iron Man\n",
      "Partner: War Machine\n",
      "Super powers: Genius level intellect, Scientist \n",
      "=========================\n"
     ]
    }
   ],
   "source": [
    "# task-9:\n",
    "class Avengers:\n",
    "    def __init__(self, name, partner):\n",
    "        self.name = name\n",
    "        self.partner = partner\n",
    "        self.powers = \"\"\n",
    "    def super_powers(self,*args):\n",
    "        for i in args:\n",
    "            if args[-1] == i:\n",
    "                self.powers = self.powers + i\n",
    "            else:\n",
    "                self.powers = self.powers + i + \", \"           \n",
    "    def printAvengersDetail(self):\n",
    "        print(\"Name:\",self.name)\n",
    "        print(\"Partner:\",self.partner)\n",
    "        print(\"Super powers:\",self.powers)\n",
    "a1 = Avengers('Captain America', 'Bucky Barnes')\n",
    "a1.super_powers('Stamina', 'Slowed ageing')\n",
    "a2 = Avengers('Doctor Strange', 'Ancient One')\n",
    "a2.super_powers('Mastery of magic')\n",
    "a3 = Avengers('Iron Man', 'War Machine')\n",
    "a3.super_powers('Genius level intellect', 'Scientist ')\n",
    "print(\"=========================\")\n",
    "a1.printAvengersDetail()\n",
    "print(\"=========================\")\n",
    "a2.printAvengersDetail()\n",
    "print(\"=========================\")\n",
    "a3.printAvengersDetail()\n",
    "print(\"=========================\")"
   ]
  },
  {
   "cell_type": "code",
   "execution_count": 34,
   "metadata": {},
   "outputs": [
    {
     "name": "stdout",
     "output_type": "stream",
     "text": [
      "Name: Naruto\n",
      "Rank: Genin\n",
      "Number of mission: 5\n",
      "Salary: 250\n",
      "====================\n",
      "Name: Shikamaru\n",
      "Rank: Genin\n",
      "Number of mission: 0\n",
      "Salary: 0\n",
      "Name: Shikamaru\n",
      "Rank: Chunin\n",
      "Number of mission: 10\n",
      "Salary: 1000\n",
      "====================\n",
      "Name: Neiji\n",
      "Rank: Jonin\n",
      "Number of mission: 5\n",
      "Salary: 2500\n"
     ]
    }
   ],
   "source": [
    "# task-10:\n",
    "class Shinobi:\n",
    "    def __init__(self, name='Naruto', rank='Genin'):\n",
    "        self.name = name\n",
    "        self.rank = rank\n",
    "        self.mission = 0\n",
    "        self.sal = 0\n",
    "    def calSalary(self, mission):\n",
    "        self.mission = mission\n",
    "        if self.rank == 'Genin':\n",
    "            self.sal = mission * 50\n",
    "        elif self.rank == 'Chunin':\n",
    "            self.sal = mission * 100\n",
    "        else:\n",
    "            self.sal = mission * 500 \n",
    "    def changeRank(self, rank):\n",
    "        self.rank = rank\n",
    "    def printInfo(self):\n",
    "        print('Name:', self.name)\n",
    "        print('Rank:', self.rank)\n",
    "        print('Number of mission:', self.mission)\n",
    "        print('Salary:', self.sal)\n",
    "naruto = Shinobi(\"Naruto\", \"Genin\")\n",
    "naruto.calSalary(5)\n",
    "naruto.printInfo()\n",
    "print('====================')\n",
    "shikamaru = Shinobi('Shikamaru', \"Genin\")\n",
    "shikamaru.printInfo()\n",
    "shikamaru.changeRank(\"Chunin\")\n",
    "shikamaru.calSalary(10)\n",
    "shikamaru.printInfo()\n",
    "print('====================')\n",
    "neiji = Shinobi(\"Neiji\", \"Jonin\")\n",
    "neiji.calSalary(5)\n",
    "neiji.printInfo()"
   ]
  },
  {
   "cell_type": "code",
   "execution_count": null,
   "metadata": {},
   "outputs": [],
   "source": []
  }
 ],
 "metadata": {
  "kernelspec": {
   "display_name": "Python 3",
   "language": "python",
   "name": "python3"
  },
  "language_info": {
   "codemirror_mode": {
    "name": "ipython",
    "version": 3
   },
   "file_extension": ".py",
   "mimetype": "text/x-python",
   "name": "python",
   "nbconvert_exporter": "python",
   "pygments_lexer": "ipython3",
   "version": "3.7.6"
  }
 },
 "nbformat": 4,
 "nbformat_minor": 4
}
